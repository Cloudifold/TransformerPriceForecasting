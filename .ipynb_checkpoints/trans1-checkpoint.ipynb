{
 "cells": [
  {
   "cell_type": "code",
   "execution_count": 1,
   "metadata": {
    "colab": {
     "base_uri": "https://localhost:8080/"
    },
    "id": "i6zxz6xZyWb2",
    "outputId": "d80a4b3f-7fb0-4e51-bfa6-879b0b1edefc"
   },
   "outputs": [
    {
     "name": "stdout",
     "output_type": "stream",
     "text": [
      "Tensorflow version: 2.2.0\n",
      "[PhysicalDevice(name='/physical_device:GPU:0', device_type='GPU')]\n"
     ]
    },
    {
     "name": "stderr",
     "output_type": "stream",
     "text": [
      "2024-06-20 23:24:44.490679: I tensorflow/stream_executor/platform/default/dso_loader.cc:44] Successfully opened dynamic library libcuda.so.1\n",
      "2024-06-20 23:24:44.882745: I tensorflow/stream_executor/cuda/cuda_gpu_executor.cc:981] successful NUMA node read from SysFS had negative value (-1), but there must be at least one NUMA node, so returning NUMA node zero\n",
      "2024-06-20 23:24:44.882899: I tensorflow/core/common_runtime/gpu/gpu_device.cc:1561] Found device 0 with properties: \n",
      "pciBusID: 0000:01:00.0 name: NVIDIA GeForce RTX 2060 computeCapability: 7.5\n",
      "coreClock: 1.2GHz coreCount: 30 deviceMemorySize: 5.78GiB deviceMemoryBandwidth: 312.97GiB/s\n",
      "2024-06-20 23:24:44.883083: I tensorflow/stream_executor/platform/default/dso_loader.cc:44] Successfully opened dynamic library libcudart.so.10.1\n",
      "2024-06-20 23:24:44.884647: I tensorflow/stream_executor/platform/default/dso_loader.cc:44] Successfully opened dynamic library libcublas.so.10\n",
      "2024-06-20 23:24:44.886362: I tensorflow/stream_executor/platform/default/dso_loader.cc:44] Successfully opened dynamic library libcufft.so.10\n",
      "2024-06-20 23:24:44.886786: I tensorflow/stream_executor/platform/default/dso_loader.cc:44] Successfully opened dynamic library libcurand.so.10\n",
      "2024-06-20 23:24:44.888766: I tensorflow/stream_executor/platform/default/dso_loader.cc:44] Successfully opened dynamic library libcusolver.so.10\n",
      "2024-06-20 23:24:44.889616: I tensorflow/stream_executor/platform/default/dso_loader.cc:44] Successfully opened dynamic library libcusparse.so.10\n",
      "2024-06-20 23:24:44.892537: I tensorflow/stream_executor/platform/default/dso_loader.cc:44] Successfully opened dynamic library libcudnn.so.7\n",
      "2024-06-20 23:24:44.892626: I tensorflow/stream_executor/cuda/cuda_gpu_executor.cc:981] successful NUMA node read from SysFS had negative value (-1), but there must be at least one NUMA node, so returning NUMA node zero\n",
      "2024-06-20 23:24:44.892803: I tensorflow/stream_executor/cuda/cuda_gpu_executor.cc:981] successful NUMA node read from SysFS had negative value (-1), but there must be at least one NUMA node, so returning NUMA node zero\n",
      "2024-06-20 23:24:44.892911: I tensorflow/core/common_runtime/gpu/gpu_device.cc:1703] Adding visible gpu devices: 0\n"
     ]
    }
   ],
   "source": [
    "import os\n",
    "os.environ['CUDA_VISIBLE_DEVICES'] = '0'\n",
    "\n",
    "\n",
    "import numpy as np\n",
    "import pandas as pd\n",
    "import datetime\n",
    "import tensorflow as tf\n",
    "from tensorflow.keras.models import *\n",
    "from tensorflow.keras.layers import *\n",
    "print('Tensorflow version: {}'.format(tf.__version__))\n",
    "\n",
    "import matplotlib.pyplot as plt\n",
    "plt.style.use('seaborn')\n",
    "\n",
    "import warnings\n",
    "warnings.filterwarnings('ignore')\n",
    "\n",
    "print(tf.config.list_physical_devices('GPU'))\n",
    "gpus = tf.config.experimental.list_physical_devices('GPU')\n",
    "if gpus:\n",
    "    tf.config.experimental.set_virtual_device_configuration(gpus[0],[tf.config.experimental.VirtualDeviceConfiguration(memory_limit=5900)])\n"
   ]
  },
  {
   "cell_type": "markdown",
   "metadata": {
    "id": "ykFSM9LT54LR"
   },
   "source": [
    "## Hyperparameters"
   ]
  },
  {
   "cell_type": "code",
   "execution_count": 2,
   "metadata": {
    "id": "Acgb31zy5lcD"
   },
   "outputs": [],
   "source": [
    "batch_size = 32\n",
    "seq_len = 128\n",
    "\n",
    "d_k = 256\n",
    "d_v = 256\n",
    "n_heads = 24\n",
    "ff_dim = 256"
   ]
  },
  {
   "cell_type": "markdown",
   "metadata": {
    "id": "HnPzNUPK50Ki"
   },
   "source": [
    "## Load IBM data"
   ]
  },
  {
   "cell_type": "code",
   "execution_count": 3,
   "metadata": {
    "colab": {
     "base_uri": "https://localhost:8080/",
     "height": 202
    },
    "id": "jdi13JvV5ltd",
    "outputId": "c947f751-de26-49f7-8f9b-f53bc52574f6"
   },
   "outputs": [
    {
     "name": "stdout",
     "output_type": "stream",
     "text": [
      "./trans1+ff_dim=256+seq_len=128+n_heads=24+dv=256+dk=256_.hdf5\n"
     ]
    },
    {
     "data": {
      "text/html": [
       "<div>\n",
       "<style scoped>\n",
       "    .dataframe tbody tr th:only-of-type {\n",
       "        vertical-align: middle;\n",
       "    }\n",
       "\n",
       "    .dataframe tbody tr th {\n",
       "        vertical-align: top;\n",
       "    }\n",
       "\n",
       "    .dataframe thead th {\n",
       "        text-align: right;\n",
       "    }\n",
       "</style>\n",
       "<table border=\"1\" class=\"dataframe\">\n",
       "  <thead>\n",
       "    <tr style=\"text-align: right;\">\n",
       "      <th></th>\n",
       "      <th>Y</th>\n",
       "      <th>F1</th>\n",
       "      <th>F2</th>\n",
       "      <th>F3</th>\n",
       "      <th>F4</th>\n",
       "      <th>F5</th>\n",
       "      <th>F6</th>\n",
       "      <th>F7</th>\n",
       "      <th>F8</th>\n",
       "      <th>F9</th>\n",
       "      <th>...</th>\n",
       "      <th>F23</th>\n",
       "      <th>F24</th>\n",
       "      <th>F25</th>\n",
       "      <th>F26</th>\n",
       "      <th>F27</th>\n",
       "      <th>F28</th>\n",
       "      <th>F29</th>\n",
       "      <th>F30</th>\n",
       "      <th>F31</th>\n",
       "      <th>F32</th>\n",
       "    </tr>\n",
       "  </thead>\n",
       "  <tbody>\n",
       "    <tr>\n",
       "      <th>13598</th>\n",
       "      <td>-0.0135</td>\n",
       "      <td>-0.099426</td>\n",
       "      <td>-0.000064</td>\n",
       "      <td>0.007094</td>\n",
       "      <td>0.030871</td>\n",
       "      <td>0.000288</td>\n",
       "      <td>-0.002969</td>\n",
       "      <td>1.547629e-15</td>\n",
       "      <td>0.187945</td>\n",
       "      <td>-0.006194</td>\n",
       "      <td>...</td>\n",
       "      <td>-0.008186</td>\n",
       "      <td>1.145437</td>\n",
       "      <td>0.001314</td>\n",
       "      <td>0.066440</td>\n",
       "      <td>0.237002</td>\n",
       "      <td>0.037214</td>\n",
       "      <td>-0.015074</td>\n",
       "      <td>-0.078091</td>\n",
       "      <td>0.037544</td>\n",
       "      <td>0.003022</td>\n",
       "    </tr>\n",
       "    <tr>\n",
       "      <th>13599</th>\n",
       "      <td>-0.1160</td>\n",
       "      <td>-0.097631</td>\n",
       "      <td>-0.000648</td>\n",
       "      <td>0.007912</td>\n",
       "      <td>0.119158</td>\n",
       "      <td>0.057338</td>\n",
       "      <td>0.076377</td>\n",
       "      <td>-1.278459e-06</td>\n",
       "      <td>0.235640</td>\n",
       "      <td>0.031897</td>\n",
       "      <td>...</td>\n",
       "      <td>0.008188</td>\n",
       "      <td>-0.133679</td>\n",
       "      <td>0.000918</td>\n",
       "      <td>0.068287</td>\n",
       "      <td>0.394695</td>\n",
       "      <td>0.089868</td>\n",
       "      <td>-0.018344</td>\n",
       "      <td>-0.330280</td>\n",
       "      <td>-0.133128</td>\n",
       "      <td>0.000371</td>\n",
       "    </tr>\n",
       "    <tr>\n",
       "      <th>13600</th>\n",
       "      <td>0.0855</td>\n",
       "      <td>-0.097631</td>\n",
       "      <td>0.000594</td>\n",
       "      <td>0.004843</td>\n",
       "      <td>0.030406</td>\n",
       "      <td>0.005313</td>\n",
       "      <td>0.015774</td>\n",
       "      <td>1.325994e-32</td>\n",
       "      <td>0.096937</td>\n",
       "      <td>0.025988</td>\n",
       "      <td>...</td>\n",
       "      <td>-0.016351</td>\n",
       "      <td>3.539261</td>\n",
       "      <td>0.000924</td>\n",
       "      <td>0.086970</td>\n",
       "      <td>0.415377</td>\n",
       "      <td>0.027232</td>\n",
       "      <td>-0.026701</td>\n",
       "      <td>0.219547</td>\n",
       "      <td>0.023732</td>\n",
       "      <td>0.000560</td>\n",
       "    </tr>\n",
       "    <tr>\n",
       "      <th>13601</th>\n",
       "      <td>-0.0200</td>\n",
       "      <td>-0.097631</td>\n",
       "      <td>-0.002147</td>\n",
       "      <td>-0.001646</td>\n",
       "      <td>0.042886</td>\n",
       "      <td>0.009454</td>\n",
       "      <td>0.009264</td>\n",
       "      <td>-3.374888e-13</td>\n",
       "      <td>0.383312</td>\n",
       "      <td>0.000121</td>\n",
       "      <td>...</td>\n",
       "      <td>0.065543</td>\n",
       "      <td>-0.717276</td>\n",
       "      <td>-0.013128</td>\n",
       "      <td>0.063822</td>\n",
       "      <td>0.223620</td>\n",
       "      <td>0.091436</td>\n",
       "      <td>-0.034915</td>\n",
       "      <td>-0.076711</td>\n",
       "      <td>-0.038981</td>\n",
       "      <td>0.000318</td>\n",
       "    </tr>\n",
       "    <tr>\n",
       "      <th>13602</th>\n",
       "      <td>-0.0220</td>\n",
       "      <td>-0.097990</td>\n",
       "      <td>0.000338</td>\n",
       "      <td>-0.002417</td>\n",
       "      <td>0.020841</td>\n",
       "      <td>0.006233</td>\n",
       "      <td>0.042103</td>\n",
       "      <td>-1.022581e-09</td>\n",
       "      <td>0.171131</td>\n",
       "      <td>0.017025</td>\n",
       "      <td>...</td>\n",
       "      <td>0.028001</td>\n",
       "      <td>-0.843909</td>\n",
       "      <td>0.000498</td>\n",
       "      <td>0.060847</td>\n",
       "      <td>0.128609</td>\n",
       "      <td>0.027399</td>\n",
       "      <td>0.039470</td>\n",
       "      <td>0.425197</td>\n",
       "      <td>-0.096358</td>\n",
       "      <td>0.001311</td>\n",
       "    </tr>\n",
       "  </tbody>\n",
       "</table>\n",
       "<p>5 rows × 33 columns</p>\n",
       "</div>"
      ],
      "text/plain": [
       "            Y        F1        F2        F3        F4        F5        F6  \\\n",
       "13598 -0.0135 -0.099426 -0.000064  0.007094  0.030871  0.000288 -0.002969   \n",
       "13599 -0.1160 -0.097631 -0.000648  0.007912  0.119158  0.057338  0.076377   \n",
       "13600  0.0855 -0.097631  0.000594  0.004843  0.030406  0.005313  0.015774   \n",
       "13601 -0.0200 -0.097631 -0.002147 -0.001646  0.042886  0.009454  0.009264   \n",
       "13602 -0.0220 -0.097990  0.000338 -0.002417  0.020841  0.006233  0.042103   \n",
       "\n",
       "                 F7        F8        F9  ...       F23       F24       F25  \\\n",
       "13598  1.547629e-15  0.187945 -0.006194  ... -0.008186  1.145437  0.001314   \n",
       "13599 -1.278459e-06  0.235640  0.031897  ...  0.008188 -0.133679  0.000918   \n",
       "13600  1.325994e-32  0.096937  0.025988  ... -0.016351  3.539261  0.000924   \n",
       "13601 -3.374888e-13  0.383312  0.000121  ...  0.065543 -0.717276 -0.013128   \n",
       "13602 -1.022581e-09  0.171131  0.017025  ...  0.028001 -0.843909  0.000498   \n",
       "\n",
       "            F26       F27       F28       F29       F30       F31       F32  \n",
       "13598  0.066440  0.237002  0.037214 -0.015074 -0.078091  0.037544  0.003022  \n",
       "13599  0.068287  0.394695  0.089868 -0.018344 -0.330280 -0.133128  0.000371  \n",
       "13600  0.086970  0.415377  0.027232 -0.026701  0.219547  0.023732  0.000560  \n",
       "13601  0.063822  0.223620  0.091436 -0.034915 -0.076711 -0.038981  0.000318  \n",
       "13602  0.060847  0.128609  0.027399  0.039470  0.425197 -0.096358  0.001311  \n",
       "\n",
       "[5 rows x 33 columns]"
      ]
     },
     "execution_count": 3,
     "metadata": {},
     "output_type": "execute_result"
    }
   ],
   "source": [
    "IBM_path = './train/data.0.csv'\n",
    "\n",
    "hdf5_file_name = 'trans1+ff_dim={}+seq_len={}+n_heads={}+dv={}+dk={}_.hdf5'.format(ff_dim, seq_len, n_heads, d_v,d_k)\n",
    "hdf5_file_path = './' + hdf5_file_name \n",
    "print(hdf5_file_path)\n",
    "\n",
    "uscols = [\"F\"+str(i) for i in range(1,33)]\n",
    "uscols = [\"Y\"] + uscols\n",
    "df = pd.read_csv(IBM_path, delimiter=',', usecols=uscols)\n",
    "\n",
    "\n",
    "df.tail()"
   ]
  },
  {
   "cell_type": "markdown",
   "metadata": {
    "id": "Caac4a66588l"
   },
   "source": [
    "## Plot daily IBM closing prices and volume"
   ]
  },
  {
   "cell_type": "code",
   "execution_count": 9,
   "metadata": {
    "colab": {
     "base_uri": "https://localhost:8080/",
     "height": 637
    },
    "id": "JJ1tN1_k5lx2",
    "outputId": "1efdbdf0-3fef-4db4-b1db-1be2fb5bfe5d"
   },
   "outputs": [
    {
     "data": {
      "text/plain": [
       "<matplotlib.legend.Legend at 0x7c78f92f1e10>"
      ]
     },
     "execution_count": 9,
     "metadata": {},
     "output_type": "execute_result"
    },
    {
     "data": {
      "image/png": "[encoded data removed]",
      "text/plain": [
       "<Figure size 1500x1000 with 2 Axes>"
      ]
     },
     "metadata": {},
     "output_type": "display_data"
    }
   ],
   "source": [
    "fig = plt.figure(figsize=(15,10))\n",
    "st = fig.suptitle(\"YF\", fontsize=20)\n",
    "st.set_y(0.92)\n",
    "\n",
    "ax1 = fig.add_subplot(211)\n",
    "ax1.plot(df['Y'], label='Y')\n",
    "ax1.set_xticks(range(0, df.shape[0], 1360))\n",
    "ax1.set_ylabel('Y', fontsize=18)\n",
    "ax1.legend(loc=\"upper left\", fontsize=12)\n",
    "\n",
    "ax2 = fig.add_subplot(212)\n",
    "ax2.plot(df['F6'], label='F6')\n",
    "ax2.set_xticks(range(0, df.shape[0], 1360))\n",
    "ax2.set_ylabel('FS', fontsize=18)\n",
    "ax2.legend(loc=\"upper left\", fontsize=12)"
   ]
  },
  {
   "cell_type": "markdown",
   "metadata": {
    "id": "fTS3Cm2H6GBz"
   },
   "source": [
    "## Calculate normalized percentage change of all columns"
   ]
  },
  {
   "cell_type": "code",
   "execution_count": 5,
   "metadata": {
    "colab": {
     "base_uri": "https://localhost:8080/",
     "height": 255
    },
    "id": "i7_Uju9B5lqY",
    "outputId": "e56a1ca3-9c69-4ea4-ce2b-e1411c64452a"
   },
   "outputs": [
    {
     "name": "stdout",
     "output_type": "stream",
     "text": [
      "Training data shape: (11712, 5)\n",
      "Validation data shape: (1464, 5)\n",
      "Test data shape: (1463, 5)\n"
     ]
    },
    {
     "data": {
      "text/html": [
       "<div>\n",
       "<style scoped>\n",
       "    .dataframe tbody tr th:only-of-type {\n",
       "        vertical-align: middle;\n",
       "    }\n",
       "\n",
       "    .dataframe tbody tr th {\n",
       "        vertical-align: top;\n",
       "    }\n",
       "\n",
       "    .dataframe thead th {\n",
       "        text-align: right;\n",
       "    }\n",
       "</style>\n",
       "<table border=\"1\" class=\"dataframe\">\n",
       "  <thead>\n",
       "    <tr style=\"text-align: right;\">\n",
       "      <th></th>\n",
       "      <th>Open</th>\n",
       "      <th>High</th>\n",
       "      <th>Low</th>\n",
       "      <th>Close</th>\n",
       "      <th>Volume</th>\n",
       "    </tr>\n",
       "  </thead>\n",
       "  <tbody>\n",
       "    <tr>\n",
       "      <th>1</th>\n",
       "      <td>0.613582</td>\n",
       "      <td>0.592227</td>\n",
       "      <td>0.587956</td>\n",
       "      <td>0.567883</td>\n",
       "      <td>0.035499</td>\n",
       "    </tr>\n",
       "    <tr>\n",
       "      <th>2</th>\n",
       "      <td>0.564707</td>\n",
       "      <td>0.564707</td>\n",
       "      <td>0.540887</td>\n",
       "      <td>0.544117</td>\n",
       "      <td>0.056595</td>\n",
       "    </tr>\n",
       "    <tr>\n",
       "      <th>3</th>\n",
       "      <td>0.545124</td>\n",
       "      <td>0.545124</td>\n",
       "      <td>0.531044</td>\n",
       "      <td>0.546422</td>\n",
       "      <td>0.060364</td>\n",
       "    </tr>\n",
       "    <tr>\n",
       "      <th>4</th>\n",
       "      <td>0.559480</td>\n",
       "      <td>0.607509</td>\n",
       "      <td>0.623605</td>\n",
       "      <td>0.621125</td>\n",
       "      <td>0.035780</td>\n",
       "    </tr>\n",
       "    <tr>\n",
       "      <th>5</th>\n",
       "      <td>0.614355</td>\n",
       "      <td>0.577040</td>\n",
       "      <td>0.614355</td>\n",
       "      <td>0.596621</td>\n",
       "      <td>0.023269</td>\n",
       "    </tr>\n",
       "  </tbody>\n",
       "</table>\n",
       "</div>"
      ],
      "text/plain": [
       "       Open      High       Low     Close    Volume\n",
       "1  0.613582  0.592227  0.587956  0.567883  0.035499\n",
       "2  0.564707  0.564707  0.540887  0.544117  0.056595\n",
       "3  0.545124  0.545124  0.531044  0.546422  0.060364\n",
       "4  0.559480  0.607509  0.623605  0.621125  0.035780\n",
       "5  0.614355  0.577040  0.614355  0.596621  0.023269"
      ]
     },
     "execution_count": 5,
     "metadata": {},
     "output_type": "execute_result"
    }
   ],
   "source": [
    "'''Calculate percentage change'''\n",
    "\n",
    "\n",
    "'''\n",
    "for name in uscols:\n",
    "  df[name] = df[name].pct_change() \n",
    "'''\n",
    "\n",
    "df.dropna(how='any', axis=0, inplace=True) # Drop all rows with NaN values\n",
    "\n",
    "###############################################################################\n",
    "'''Create indexes to split dataset'''\n",
    "\n",
    "times = sorted(df.index.values)\n",
    "last_10pct = sorted(df.index.values)[-int(0.1*len(times))] # Last 10% of series\n",
    "last_20pct = sorted(df.index.values)[-int(0.2*len(times))] # Last 20% of series\n",
    "\n",
    "###############################################################################\n",
    "'''Normalize price columns'''\n",
    "#\n",
    "min_return = min(df[(df.index < last_20pct)][['Open', 'High', 'Low', 'Close']].min(axis=0))\n",
    "max_return = max(df[(df.index < last_20pct)][['Open', 'High', 'Low', 'Close']].max(axis=0))\n",
    "\n",
    "# Min-max normalize price columns (0-1 range)\n",
    "df['Open'] = (df['Open'] - min_return) / (max_return - min_return)\n",
    "df['High'] = (df['High'] - min_return) / (max_return - min_return)\n",
    "df['Low'] = (df['Low'] - min_return) / (max_return - min_return)\n",
    "df['Close'] = (df['Close'] - min_return) / (max_return - min_return)\n",
    "\n",
    "###############################################################################\n",
    "'''Normalize volume column'''\n",
    "\n",
    "min_volume = df[(df.index < last_20pct)]['Volume'].min(axis=0)\n",
    "max_volume = df[(df.index < last_20pct)]['Volume'].max(axis=0)\n",
    "\n",
    "# Min-max normalize volume columns (0-1 range)\n",
    "df['Volume'] = (df['Volume'] - min_volume) / (max_volume - min_volume)\n",
    "\n",
    "###############################################################################\n",
    "'''Create training, validation and test split'''\n",
    "\n",
    "df_train = df[(df.index < last_20pct)]  # Training data are 80% of total data\n",
    "df_val = df[(df.index >= last_20pct) & (df.index < last_10pct)]\n",
    "df_test = df[(df.index >= last_10pct)]\n",
    "\n",
    "# Remove date column\n",
    "df_train.drop(columns=['Date'], inplace=True)\n",
    "df_val.drop(columns=['Date'], inplace=True)\n",
    "df_test.drop(columns=['Date'], inplace=True)\n",
    "\n",
    "# Convert pandas columns into arrays\n",
    "train_data = df_train.values\n",
    "val_data = df_val.values\n",
    "test_data = df_test.values\n",
    "print('Training data shape: {}'.format(train_data.shape))\n",
    "print('Validation data shape: {}'.format(val_data.shape))\n",
    "print('Test data shape: {}'.format(test_data.shape))\n",
    "\n",
    "df_train.head()"
   ]
  },
  {
   "cell_type": "code",
   "execution_count": 5,
   "metadata": {
    "colab": {
     "base_uri": "https://localhost:8080/",
     "height": 255
    },
    "id": "i7_Uju9B5lqY",
    "outputId": "e56a1ca3-9c69-4ea4-ce2b-e1411c64452a"
   },
   "outputs": [
    {
     "name": "stdout",
     "output_type": "stream",
     "text": [
      "Training data shape: (11712, 5)\n",
      "Validation data shape: (1464, 5)\n",
      "Test data shape: (1463, 5)\n"
     ]
    },
    {
     "data": {
      "text/html": [
       "<div>\n",
       "<style scoped>\n",
       "    .dataframe tbody tr th:only-of-type {\n",
       "        vertical-align: middle;\n",
       "    }\n",
       "\n",
       "    .dataframe tbody tr th {\n",
       "        vertical-align: top;\n",
       "    }\n",
       "\n",
       "    .dataframe thead th {\n",
       "        text-align: right;\n",
       "    }\n",
       "</style>\n",
       "<table border=\"1\" class=\"dataframe\">\n",
       "  <thead>\n",
       "    <tr style=\"text-align: right;\">\n",
       "      <th></th>\n",
       "      <th>Open</th>\n",
       "      <th>High</th>\n",
       "      <th>Low</th>\n",
       "      <th>Close</th>\n",
       "      <th>Volume</th>\n",
       "    </tr>\n",
       "  </thead>\n",
       "  <tbody>\n",
       "    <tr>\n",
       "      <th>1</th>\n",
       "      <td>0.613582</td>\n",
       "      <td>0.592227</td>\n",
       "      <td>0.587956</td>\n",
       "      <td>0.567883</td>\n",
       "      <td>0.035499</td>\n",
       "    </tr>\n",
       "    <tr>\n",
       "      <th>2</th>\n",
       "      <td>0.564707</td>\n",
       "      <td>0.564707</td>\n",
       "      <td>0.540887</td>\n",
       "      <td>0.544117</td>\n",
       "      <td>0.056595</td>\n",
       "    </tr>\n",
       "    <tr>\n",
       "      <th>3</th>\n",
       "      <td>0.545124</td>\n",
       "      <td>0.545124</td>\n",
       "      <td>0.531044</td>\n",
       "      <td>0.546422</td>\n",
       "      <td>0.060364</td>\n",
       "    </tr>\n",
       "    <tr>\n",
       "      <th>4</th>\n",
       "      <td>0.559480</td>\n",
       "      <td>0.607509</td>\n",
       "      <td>0.623605</td>\n",
       "      <td>0.621125</td>\n",
       "      <td>0.035780</td>\n",
       "    </tr>\n",
       "    <tr>\n",
       "      <th>5</th>\n",
       "      <td>0.614355</td>\n",
       "      <td>0.577040</td>\n",
       "      <td>0.614355</td>\n",
       "      <td>0.596621</td>\n",
       "      <td>0.023269</td>\n",
       "    </tr>\n",
       "  </tbody>\n",
       "</table>\n",
       "</div>"
      ],
      "text/plain": [
       "       Open      High       Low     Close    Volume\n",
       "1  0.613582  0.592227  0.587956  0.567883  0.035499\n",
       "2  0.564707  0.564707  0.540887  0.544117  0.056595\n",
       "3  0.545124  0.545124  0.531044  0.546422  0.060364\n",
       "4  0.559480  0.607509  0.623605  0.621125  0.035780\n",
       "5  0.614355  0.577040  0.614355  0.596621  0.023269"
      ]
     },
     "execution_count": 5,
     "metadata": {},
     "output_type": "execute_result"
    }
   ],
   "source": [
    "'''Calculate percentage change'''\n",
    "\n",
    "df['Open'] = df['Open'].pct_change() # Create arithmetic returns column\n",
    "df['High'] = df['High'].pct_change() # Create arithmetic returns column\n",
    "df['Low'] = df['Low'].pct_change() # Create arithmetic returns column\n",
    "df['Close'] = df['Close'].pct_change() # Create arithmetic returns column\n",
    "df['Volume'] = df['Volume'].pct_change()\n",
    "\n",
    "df.dropna(how='any', axis=0, inplace=True) # Drop all rows with NaN values\n",
    "\n",
    "###############################################################################\n",
    "'''Create indexes to split dataset'''\n",
    "\n",
    "times = sorted(df.index.values)\n",
    "last_10pct = sorted(df.index.values)[-int(0.1*len(times))] # Last 10% of series\n",
    "last_20pct = sorted(df.index.values)[-int(0.2*len(times))] # Last 20% of series\n",
    "\n",
    "###############################################################################\n",
    "'''Normalize price columns'''\n",
    "#\n",
    "min_return = min(df[(df.index < last_20pct)][['Open', 'High', 'Low', 'Close']].min(axis=0))\n",
    "max_return = max(df[(df.index < last_20pct)][['Open', 'High', 'Low', 'Close']].max(axis=0))\n",
    "\n",
    "# Min-max normalize price columns (0-1 range)\n",
    "df['Open'] = (df['Open'] - min_return) / (max_return - min_return)\n",
    "df['High'] = (df['High'] - min_return) / (max_return - min_return)\n",
    "df['Low'] = (df['Low'] - min_return) / (max_return - min_return)\n",
    "df['Close'] = (df['Close'] - min_return) / (max_return - min_return)\n",
    "\n",
    "###############################################################################\n",
    "'''Normalize volume column'''\n",
    "\n",
    "min_volume = df[(df.index < last_20pct)]['Volume'].min(axis=0)\n",
    "max_volume = df[(df.index < last_20pct)]['Volume'].max(axis=0)\n",
    "\n",
    "# Min-max normalize volume columns (0-1 range)\n",
    "df['Volume'] = (df['Volume'] - min_volume) / (max_volume - min_volume)\n",
    "\n",
    "###############################################################################\n",
    "'''Create training, validation and test split'''\n",
    "\n",
    "df_train = df[(df.index < last_20pct)]  # Training data are 80% of total data\n",
    "df_val = df[(df.index >= last_20pct) & (df.index < last_10pct)]\n",
    "df_test = df[(df.index >= last_10pct)]\n",
    "\n",
    "# Remove date column\n",
    "df_train.drop(columns=['Date'], inplace=True)\n",
    "df_val.drop(columns=['Date'], inplace=True)\n",
    "df_test.drop(columns=['Date'], inplace=True)\n",
    "\n",
    "# Convert pandas columns into arrays\n",
    "train_data = df_train.values\n",
    "val_data = df_val.values\n",
    "test_data = df_test.values\n",
    "print('Training data shape: {}'.format(train_data.shape))\n",
    "print('Validation data shape: {}'.format(val_data.shape))\n",
    "print('Test data shape: {}'.format(test_data.shape))\n",
    "\n",
    "df_train.head()"
   ]
  },
  {
   "cell_type": "markdown",
   "metadata": {
    "id": "diGgUw_f6fAI"
   },
   "source": [
    "## Plot daily changes of close prices and volume"
   ]
  },
  {
   "cell_type": "code",
   "execution_count": 6,
   "metadata": {
    "colab": {
     "base_uri": "https://localhost:8080/",
     "height": 792
    },
    "id": "MJCti1mt5lnL",
    "outputId": "810c6464-dc15-46a7-e45d-496b3a7e3b6e"
   },
   "outputs": [
    {
     "data": {
      "text/plain": [
       "<matplotlib.legend.Legend at 0x777971bff490>"
      ]
     },
     "execution_count": 6,
     "metadata": {},
     "output_type": "execute_result"
    },
    {
     "data": {
      "image/png": "[encoded data removed]",
      "text/plain": [
       "<Figure size 1500x1200 with 2 Axes>"
      ]
     },
     "metadata": {},
     "output_type": "display_data"
    }
   ],
   "source": [
    "fig = plt.figure(figsize=(15,12))\n",
    "st = fig.suptitle(\"Data Separation\", fontsize=20)\n",
    "st.set_y(0.95)\n",
    "\n",
    "###############################################################################\n",
    "\n",
    "ax1 = fig.add_subplot(211)\n",
    "ax1.plot(np.arange(train_data.shape[0]), df_train['Close'], label='Training data')\n",
    "\n",
    "ax1.plot(np.arange(train_data.shape[0], \n",
    "                   train_data.shape[0]+val_data.shape[0]), df_val['Close'], label='Validation data')\n",
    "\n",
    "ax1.plot(np.arange(train_data.shape[0]+val_data.shape[0], \n",
    "                   train_data.shape[0]+val_data.shape[0]+test_data.shape[0]), df_test['Close'], label='Test data')\n",
    "ax1.set_xlabel('Date')\n",
    "ax1.set_ylabel('Normalized Closing Returns')\n",
    "ax1.set_title(\"Close Price\", fontsize=18)\n",
    "ax1.legend(loc=\"best\", fontsize=12)\n",
    "\n",
    "###############################################################################\n",
    "\n",
    "ax2 = fig.add_subplot(212)\n",
    "ax2.plot(np.arange(train_data.shape[0]), df_train['Volume'], label='Training data')\n",
    "\n",
    "ax2.plot(np.arange(train_data.shape[0], \n",
    "                   train_data.shape[0]+val_data.shape[0]), df_val['Volume'], label='Validation data')\n",
    "\n",
    "ax2.plot(np.arange(train_data.shape[0]+val_data.shape[0], \n",
    "                   train_data.shape[0]+val_data.shape[0]+test_data.shape[0]), df_test['Volume'], label='Test data')\n",
    "ax2.set_xlabel('Date')\n",
    "ax2.set_ylabel('Normalized Volume Changes')\n",
    "ax2.set_title(\"Volume\", fontsize=18)\n",
    "ax2.legend(loc=\"best\", fontsize=12)"
   ]
  },
  {
   "cell_type": "markdown",
   "metadata": {
    "id": "K-9JDha_6l3L"
   },
   "source": [
    "## Create chunks of training, validation and test data"
   ]
  },
  {
   "cell_type": "code",
   "execution_count": 7,
   "metadata": {
    "colab": {
     "base_uri": "https://localhost:8080/",
     "height": 68
    },
    "id": "Ib8wOc-_5llL",
    "outputId": "74d3495e-68d3-441d-b050-ec8f134cf888"
   },
   "outputs": [
    {
     "name": "stdout",
     "output_type": "stream",
     "text": [
      "Training set shape (11584, 128, 5) (11584,)\n",
      "Validation set shape (1336, 128, 5) (1336,)\n",
      "Testing set shape (1335, 128, 5) (1335,)\n"
     ]
    }
   ],
   "source": [
    "# Training data\n",
    "X_train, y_train = [], []\n",
    "for i in range(seq_len, len(train_data)):\n",
    "  X_train.append(train_data[i-seq_len:i]) # Chunks of training data with a length of 128 df-rows\n",
    "  y_train.append(train_data[:, 3][i]) #Value of 4th column (Close Price) of df-row 128+1\n",
    "X_train, y_train = np.array(X_train), np.array(y_train)\n",
    "\n",
    "###############################################################################\n",
    "\n",
    "# Validation data\n",
    "X_val, y_val = [], []\n",
    "for i in range(seq_len, len(val_data)):\n",
    "    X_val.append(val_data[i-seq_len:i])\n",
    "    y_val.append(val_data[:, 3][i])\n",
    "X_val, y_val = np.array(X_val), np.array(y_val)\n",
    "\n",
    "###############################################################################\n",
    "\n",
    "# Test data\n",
    "X_test, y_test = [], []\n",
    "for i in range(seq_len, len(test_data)):\n",
    "    X_test.append(test_data[i-seq_len:i])\n",
    "    y_test.append(test_data[:, 3][i])    \n",
    "X_test, y_test = np.array(X_test), np.array(y_test)\n",
    "\n",
    "print('Training set shape', X_train.shape, y_train.shape)\n",
    "print('Validation set shape', X_val.shape, y_val.shape)\n",
    "print('Testing set shape' ,X_test.shape, y_test.shape)"
   ]
  },
  {
   "cell_type": "markdown",
   "metadata": {
    "id": "5WhTPe6I6sDu"
   },
   "source": [
    "## TimeVector"
   ]
  },
  {
   "cell_type": "code",
   "execution_count": 8,
   "metadata": {
    "id": "dUawOlTD5ljR"
   },
   "outputs": [],
   "source": [
    "class Time2Vector(Layer):\n",
    "  def __init__(self, seq_len, **kwargs):\n",
    "    super(Time2Vector, self).__init__()\n",
    "    self.seq_len = seq_len\n",
    "\n",
    "  def build(self, input_shape):\n",
    "    '''Initialize weights and biases with shape (batch, seq_len)'''\n",
    "    self.weights_linear = self.add_weight(name='weight_linear',\n",
    "                                shape=(int(self.seq_len),),\n",
    "                                initializer='uniform',\n",
    "                                trainable=True)\n",
    "    \n",
    "    self.bias_linear = self.add_weight(name='bias_linear',\n",
    "                                shape=(int(self.seq_len),),\n",
    "                                initializer='uniform',\n",
    "                                trainable=True)\n",
    "    \n",
    "    self.weights_periodic = self.add_weight(name='weight_periodic',\n",
    "                                shape=(int(self.seq_len),),\n",
    "                                initializer='uniform',\n",
    "                                trainable=True)\n",
    "\n",
    "    self.bias_periodic = self.add_weight(name='bias_periodic',\n",
    "                                shape=(int(self.seq_len),),\n",
    "                                initializer='uniform',\n",
    "                                trainable=True)\n",
    "\n",
    "  def call(self, x):\n",
    "    '''Calculate linear and periodic time features'''\n",
    "    x = tf.math.reduce_mean(x[:,:,:4], axis=-1) \n",
    "    time_linear = self.weights_linear * x + self.bias_linear # Linear time feature\n",
    "    time_linear = tf.expand_dims(time_linear, axis=-1) # Add dimension (batch, seq_len, 1)\n",
    "    \n",
    "    time_periodic = tf.math.sin(tf.multiply(x, self.weights_periodic) + self.bias_periodic)\n",
    "    time_periodic = tf.expand_dims(time_periodic, axis=-1) # Add dimension (batch, seq_len, 1)\n",
    "    return tf.concat([time_linear, time_periodic], axis=-1) # shape = (batch, seq_len, 2)\n",
    "   \n",
    "  def get_config(self): # Needed for saving and loading model with custom layer\n",
    "    config = super().get_config().copy()\n",
    "    config.update({'seq_len': self.seq_len})\n",
    "    return config\n",
    "  "
   ]
  },
  {
   "cell_type": "markdown",
   "metadata": {
    "id": "hJZOW8d56wyJ"
   },
   "source": [
    "## Transformer"
   ]
  },
  {
   "cell_type": "code",
   "execution_count": 9,
   "metadata": {
    "id": "2Veb1wu_5lhE"
   },
   "outputs": [],
   "source": [
    "class SingleAttention(Layer):\n",
    "  def __init__(self, d_k, d_v):\n",
    "    super(SingleAttention, self).__init__()\n",
    "    self.d_k = d_k\n",
    "    self.d_v = d_v\n",
    "\n",
    "  def build(self, input_shape):\n",
    "    self.query = Dense(self.d_k, \n",
    "                       input_shape=input_shape, \n",
    "                       kernel_initializer='glorot_uniform', \n",
    "                       bias_initializer='glorot_uniform')\n",
    "    \n",
    "    self.key = Dense(self.d_k, \n",
    "                     input_shape=input_shape, \n",
    "                     kernel_initializer='glorot_uniform', \n",
    "                     bias_initializer='glorot_uniform')\n",
    "    \n",
    "    self.value = Dense(self.d_v, \n",
    "                       input_shape=input_shape, \n",
    "                       kernel_initializer='glorot_uniform', \n",
    "                       bias_initializer='glorot_uniform')\n",
    "\n",
    "  def call(self, inputs): # inputs = (in_seq, in_seq, in_seq)\n",
    "    q = self.query(inputs[0])\n",
    "    k = self.key(inputs[1])\n",
    "\n",
    "    attn_weights = tf.matmul(q, k, transpose_b=True)\n",
    "    attn_weights = tf.map_fn(lambda x: x/np.sqrt(self.d_k), attn_weights)\n",
    "    attn_weights = tf.nn.softmax(attn_weights, axis=-1)\n",
    "    \n",
    "    v = self.value(inputs[2])\n",
    "    attn_out = tf.matmul(attn_weights, v)\n",
    "    return attn_out    \n",
    "\n",
    "#############################################################################\n",
    "\n",
    "class MultiAttention(Layer):\n",
    "  def __init__(self, d_k, d_v, n_heads):\n",
    "    super(MultiAttention, self).__init__()\n",
    "    self.d_k = d_k\n",
    "    self.d_v = d_v\n",
    "    self.n_heads = n_heads\n",
    "    self.attn_heads = list()\n",
    "\n",
    "  def build(self, input_shape):\n",
    "    for n in range(self.n_heads):\n",
    "      self.attn_heads.append(SingleAttention(self.d_k, self.d_v))  \n",
    "    \n",
    "    # input_shape[0]=(batch, seq_len, 7), input_shape[0][-1]=7 \n",
    "    self.linear = Dense(input_shape[0][-1], \n",
    "                        input_shape=input_shape, \n",
    "                        kernel_initializer='glorot_uniform', \n",
    "                        bias_initializer='glorot_uniform')\n",
    "\n",
    "  def call(self, inputs):\n",
    "    attn = [self.attn_heads[i](inputs) for i in range(self.n_heads)]\n",
    "    concat_attn = tf.concat(attn, axis=-1)\n",
    "    multi_linear = self.linear(concat_attn)\n",
    "    return multi_linear   \n",
    "\n",
    "#############################################################################\n",
    "\n",
    "class TransformerEncoder(Layer):\n",
    "  def __init__(self, d_k, d_v, n_heads, ff_dim, dropout=0.1, **kwargs):\n",
    "    super(TransformerEncoder, self).__init__()\n",
    "    self.d_k = d_k\n",
    "    self.d_v = d_v\n",
    "    self.n_heads = n_heads\n",
    "    self.ff_dim = ff_dim\n",
    "    self.attn_heads = list()\n",
    "    self.dropout_rate = dropout\n",
    "\n",
    "  def build(self, input_shape):\n",
    "    self.attn_multi = MultiAttention(self.d_k, self.d_v, self.n_heads)\n",
    "    self.attn_dropout = Dropout(self.dropout_rate)\n",
    "    self.attn_normalize = LayerNormalization(input_shape=input_shape, epsilon=1e-6)\n",
    "\n",
    "    self.ff_conv1D_1 = Conv1D(filters=self.ff_dim, kernel_size=1, activation='relu')\n",
    "    # input_shape[0]=(batch, seq_len, 7), input_shape[0][-1] = 7 \n",
    "    self.ff_conv1D_2 = Conv1D(filters=input_shape[0][-1], kernel_size=1) \n",
    "    self.ff_dropout = Dropout(self.dropout_rate)\n",
    "    self.ff_normalize = LayerNormalization(input_shape=input_shape, epsilon=1e-6)    \n",
    "  \n",
    "  def call(self, inputs): # inputs = (in_seq, in_seq, in_seq)\n",
    "    attn_layer = self.attn_multi(inputs)\n",
    "    attn_layer = self.attn_dropout(attn_layer)\n",
    "    attn_layer = self.attn_normalize(inputs[0] + attn_layer)\n",
    "\n",
    "    ff_layer = self.ff_conv1D_1(attn_layer)\n",
    "    ff_layer = self.ff_conv1D_2(ff_layer)\n",
    "    ff_layer = self.ff_dropout(ff_layer)\n",
    "    ff_layer = self.ff_normalize(inputs[0] + ff_layer)\n",
    "    return ff_layer \n",
    "\n",
    "  def get_config(self): # Needed for saving and loading model with custom layer\n",
    "    config = super().get_config().copy()\n",
    "    config.update({'d_k': self.d_k,\n",
    "                   'd_v': self.d_v,\n",
    "                   'n_heads': self.n_heads,\n",
    "                   'ff_dim': self.ff_dim,\n",
    "                   'attn_heads': self.attn_heads,\n",
    "                   'dropout_rate': self.dropout_rate})\n",
    "    return config          "
   ]
  },
  {
   "cell_type": "markdown",
   "metadata": {
    "id": "OtBanXmQB4jF"
   },
   "source": [
    "## Model"
   ]
  },
  {
   "cell_type": "code",
   "execution_count": null,
   "metadata": {
    "colab": {
     "base_uri": "https://localhost:8080/",
     "height": 1000
    },
    "id": "n1z9GgwV5lZe",
    "outputId": "3a97e918-00c4-4aaf-c0d6-1fd821ce868c"
   },
   "outputs": [],
   "source": [
    "def create_model():\n",
    "  '''Initialize time and transformer layers'''\n",
    "  time_embedding = Time2Vector(seq_len)\n",
    "  attn_layer1 = TransformerEncoder(d_k, d_v, n_heads, ff_dim)\n",
    "  attn_layer2 = TransformerEncoder(d_k, d_v, n_heads, ff_dim)\n",
    "  attn_layer3 = TransformerEncoder(d_k, d_v, n_heads, ff_dim)\n",
    "\n",
    "  '''Construct model'''\n",
    "  in_seq = Input(shape=(seq_len, 5))\n",
    "  x = time_embedding(in_seq)\n",
    "  x = Concatenate(axis=-1)([in_seq, x])\n",
    "  x = attn_layer1((x, x, x))\n",
    "  x = attn_layer2((x, x, x))\n",
    "  x = attn_layer3((x, x, x))\n",
    "  x = GlobalAveragePooling1D(data_format='channels_first')(x)\n",
    "  x = Dropout(0.1)(x)\n",
    "  x = Dense(64, activation='relu')(x)\n",
    "  x = Dropout(0.1)(x)\n",
    "  out = Dense(1, activation='linear')(x)\n",
    "\n",
    "  model = Model(inputs=in_seq, outputs=out)\n",
    "  model.compile(loss='mse', optimizer='adam', metrics=['mae', 'mape'])\n",
    "  return model\n",
    "\n",
    "\n",
    "model = create_model()\n",
    "model.summary()\n",
    "\n",
    "callback = tf.keras.callbacks.ModelCheckpoint(hdf5_file_name, \n",
    "                                              monitor='val_loss', \n",
    "                                              save_best_only=True, verbose=1)\n",
    "\n",
    "history = model.fit(X_train, y_train, \n",
    "                    batch_size=batch_size, \n",
    "                    epochs=35, \n",
    "                    callbacks=[callback],\n",
    "                    validation_data=(X_val, y_val))  \n",
    "\n",
    "model = tf.keras.models.load_model(hdf5_file_path,\n",
    "                                   custom_objects={'Time2Vector': Time2Vector, \n",
    "                                                   'SingleAttention': SingleAttention,\n",
    "                                                   'MultiAttention': MultiAttention,\n",
    "                                                   'TransformerEncoder': TransformerEncoder})\n",
    "\n",
    "\n",
    "###############################################################################\n",
    "'''Calculate predictions and metrics'''\n",
    "\n",
    "#Calculate predication for training, validation and test data\n",
    "train_pred = model.predict(X_train)\n",
    "val_pred = model.predict(X_val)\n",
    "test_pred = model.predict(X_test)\n",
    "\n",
    "#Print evaluation metrics for all datasets\n",
    "train_eval = model.evaluate(X_train, y_train, verbose=0)\n",
    "val_eval = model.evaluate(X_val, y_val, verbose=0)\n",
    "test_eval = model.evaluate(X_test, y_test, verbose=0)\n",
    "print(' ')\n",
    "print('Evaluation metrics')\n",
    "print('Training Data - Loss: {:.4f}, MAE: {:.4f}, MAPE: {:.4f}'.format(train_eval[0], train_eval[1], train_eval[2]))\n",
    "print('Validation Data - Loss: {:.4f}, MAE: {:.4f}, MAPE: {:.4f}'.format(val_eval[0], val_eval[1], val_eval[2]))\n",
    "print('Test Data - Loss: {:.4f}, MAE: {:.4f}, MAPE: {:.4f}'.format(test_eval[0], test_eval[1], test_eval[2]))\n",
    "\n",
    "###############################################################################\n",
    "'''Display results'''\n",
    "\n",
    "fig = plt.figure(figsize=(15,20))\n",
    "st = fig.suptitle(\"Transformer + TimeEmbedding Model\", fontsize=22)\n",
    "st.set_y(0.92)\n",
    "\n",
    "#Plot training data results\n",
    "ax11 = fig.add_subplot(311)\n",
    "ax11.plot(train_data[:, 3], label='IBM Closing Returns')\n",
    "ax11.plot(np.arange(seq_len, train_pred.shape[0]+seq_len), train_pred, linewidth=3, label='Predicted IBM Closing Returns')\n",
    "ax11.set_title(\"Training Data\", fontsize=18)\n",
    "ax11.set_xlabel('Date')\n",
    "ax11.set_ylabel('IBM Closing Returns')\n",
    "ax11.legend(loc=\"best\", fontsize=12)\n",
    "\n",
    "#Plot validation data results\n",
    "ax21 = fig.add_subplot(312)\n",
    "ax21.plot(val_data[:, 3], label='IBM Closing Returns')\n",
    "ax21.plot(np.arange(seq_len, val_pred.shape[0]+seq_len), val_pred, linewidth=3, label='Predicted IBM Closing Returns')\n",
    "ax21.set_title(\"Validation Data\", fontsize=18)\n",
    "ax21.set_xlabel('Date')\n",
    "ax21.set_ylabel('IBM Closing Returns')\n",
    "ax21.legend(loc=\"best\", fontsize=12)\n",
    "\n",
    "#Plot test data results\n",
    "ax31 = fig.add_subplot(313)\n",
    "ax31.plot(test_data[:, 3], label='IBM Closing Returns')\n",
    "ax31.plot(np.arange(seq_len, test_pred.shape[0]+seq_len), test_pred, linewidth=3, label='Predicted IBM Closing Returns')\n",
    "ax31.set_title(\"Test Data\", fontsize=18)\n",
    "ax31.set_xlabel('Date')\n",
    "ax31.set_ylabel('IBM Closing Returns')\n",
    "ax31.legend(loc=\"best\", fontsize=12)"
   ]
  },
  {
   "cell_type": "markdown",
   "metadata": {
    "id": "QiCB_z-iCMMr"
   },
   "source": [
    "## Model metrics"
   ]
  },
  {
   "cell_type": "code",
   "execution_count": null,
   "metadata": {
    "colab": {
     "base_uri": "https://localhost:8080/",
     "height": 1000
    },
    "id": "maSSTkJPCOE8",
    "outputId": "5a802a5b-bfc7-47c0-987a-8fca1ab84226"
   },
   "outputs": [],
   "source": [
    "'''Display model metrics'''\n",
    "\n",
    "fig = plt.figure(figsize=(15,20))\n",
    "st = fig.suptitle(\"Transformer + TimeEmbedding Model Metrics\", fontsize=22)\n",
    "st.set_y(0.92)\n",
    "\n",
    "#Plot model loss\n",
    "ax1 = fig.add_subplot(311)\n",
    "ax1.plot(history.history['loss'], label='Training loss (MSE)')\n",
    "ax1.plot(history.history['val_loss'], label='Validation loss (MSE)')\n",
    "ax1.set_title(\"Model loss\", fontsize=18)\n",
    "ax1.set_xlabel('Epoch')\n",
    "ax1.set_ylabel('Loss (MSE)')\n",
    "ax1.legend(loc=\"best\", fontsize=12)\n",
    "\n",
    "#Plot MAE\n",
    "ax2 = fig.add_subplot(312)\n",
    "ax2.plot(history.history['mae'], label='Training MAE')\n",
    "ax2.plot(history.history['val_mae'], label='Validation MAE')\n",
    "ax2.set_title(\"Model metric - Mean average error (MAE)\", fontsize=18)\n",
    "ax2.set_xlabel('Epoch')\n",
    "ax2.set_ylabel('Mean average error (MAE)')\n",
    "ax2.legend(loc=\"best\", fontsize=12)\n",
    "\n",
    "#Plot MAPE\n",
    "ax3 = fig.add_subplot(313)\n",
    "ax3.plot(history.history['mape'], label='Training MAPE')\n",
    "ax3.plot(history.history['val_mape'], label='Validation MAPE')\n",
    "ax3.set_title(\"Model metric - Mean average percentage error (MAPE)\", fontsize=18)\n",
    "ax3.set_xlabel('Epoch')\n",
    "ax3.set_ylabel('Mean average percentage error (MAPE)')\n",
    "ax3.legend(loc=\"best\", fontsize=12)"
   ]
  },
  {
   "cell_type": "markdown",
   "metadata": {
    "id": "5cvzV1ArCOwK"
   },
   "source": [
    "## Model architecture overview"
   ]
  },
  {
   "cell_type": "code",
   "execution_count": null,
   "metadata": {
    "colab": {
     "base_uri": "https://localhost:8080/",
     "height": 1000
    },
    "id": "7b--iZiKCO5l",
    "outputId": "fa273886-666a-4ead-8d9e-e12083d4907b"
   },
   "outputs": [],
   "source": [
    "tf.keras.utils.plot_model(\n",
    "    model,\n",
    "    to_file=\"IBM_Transformer+TimeEmbedding.png\",\n",
    "    show_shapes=True,\n",
    "    show_layer_names=True,\n",
    "    expand_nested=True,\n",
    "    dpi=96,)"
   ]
  },
  {
   "cell_type": "markdown",
   "metadata": {
    "id": "SXm-L7Y7SXY4"
   },
   "source": [
    "# Moving Average"
   ]
  },
  {
   "cell_type": "markdown",
   "metadata": {
    "id": "fWDD3gi0SkBT"
   },
   "source": [
    "## Moving Average - Load IBM data again, to apply rolling window"
   ]
  },
  {
   "cell_type": "code",
   "execution_count": null,
   "metadata": {
    "colab": {
     "base_uri": "https://localhost:8080/",
     "height": 202
    },
    "id": "I6ShhyS6Sajz",
    "outputId": "c9f3e294-d45f-4587-938b-0d00017e75e0"
   },
   "outputs": [],
   "source": [
    "IBM_path = './IBM.csv'\n",
    "\n",
    "df = pd.read_csv(IBM_path, delimiter=',', usecols=['Date', 'Open', 'High', 'Low', 'Close', 'Volume'])\n",
    "\n",
    "# Replace 0 to avoid dividing by 0 later on\n",
    "df['Volume'].replace(to_replace=0, method='ffill', inplace=True) \n",
    "df.sort_values('Date', inplace=True)\n",
    "\n",
    "# Apply moving average with a window of 10 days to all columns\n",
    "df[['Open', 'High', 'Low', 'Close', 'Volume']] = df[['Open', 'High', 'Low', 'Close', 'Volume']].rolling(10).mean() \n",
    "\n",
    "# Drop all rows with NaN values\n",
    "df.dropna(how='any', axis=0, inplace=True) \n",
    "df.head()"
   ]
  },
  {
   "cell_type": "markdown",
   "metadata": {
    "id": "Qh7gRX0FS-xZ"
   },
   "source": [
    "## Moving Average - Plot daily IBM closing prices and volume"
   ]
  },
  {
   "cell_type": "code",
   "execution_count": null,
   "metadata": {
    "colab": {
     "base_uri": "https://localhost:8080/",
     "height": 637
    },
    "id": "JT97nI1sSafp",
    "outputId": "5f49e92f-9ba3-4eda-f7b1-9f33e7ebe028"
   },
   "outputs": [],
   "source": [
    "fig = plt.figure(figsize=(15,10))\n",
    "st = fig.suptitle(\"IBM Close Price and Volume\", fontsize=20)\n",
    "st.set_y(0.92)\n",
    "\n",
    "ax1 = fig.add_subplot(211)\n",
    "ax1.plot(df['Close'], label='IBM Close Price')\n",
    "ax1.set_xticks(range(0, df.shape[0], 1464))\n",
    "ax1.set_xticklabels(df['Date'].loc[::1464])\n",
    "ax1.set_ylabel('Close Price', fontsize=18)\n",
    "ax1.legend(loc=\"upper left\", fontsize=12)\n",
    "\n",
    "ax2 = fig.add_subplot(212)\n",
    "ax2.plot(df['Volume'], label='IBM Volume')\n",
    "ax2.set_xticks(range(0, df.shape[0], 1464))\n",
    "ax2.set_xticklabels(df['Date'].loc[::1464])\n",
    "ax2.set_ylabel('Volume', fontsize=18)\n",
    "ax2.legend(loc=\"upper left\", fontsize=12)"
   ]
  },
  {
   "cell_type": "markdown",
   "metadata": {
    "id": "WaGiU_wgTYqu"
   },
   "source": [
    "## Moving Average - Calculate normalized percentage change for all columns"
   ]
  },
  {
   "cell_type": "code",
   "execution_count": null,
   "metadata": {
    "colab": {
     "base_uri": "https://localhost:8080/",
     "height": 255
    },
    "id": "xOQVdn5TSaZs",
    "outputId": "e5a2ec9e-2f3a-4e03-b545-a0d5172acaea"
   },
   "outputs": [],
   "source": [
    "'''Calculate percentage change'''\n",
    "\n",
    "df['Open'] = df['Open'].pct_change() # Create arithmetic returns column\n",
    "df['High'] = df['High'].pct_change() # Create arithmetic returns column\n",
    "df['Low'] = df['Low'].pct_change() # Create arithmetic returns column\n",
    "df['Close'] = df['Close'].pct_change() # Create arithmetic returns column\n",
    "df['Volume'] = df['Volume'].pct_change()\n",
    "\n",
    "df.dropna(how='any', axis=0, inplace=True) # Drop all rows with NaN values\n",
    "\n",
    "###############################################################################\n",
    "'''Create indexes to split dataset'''\n",
    "\n",
    "times = sorted(df.index.values)\n",
    "last_10pct = sorted(df.index.values)[-int(0.1*len(times))] # Last 10% of series\n",
    "last_20pct = sorted(df.index.values)[-int(0.2*len(times))] # Last 20% of series\n",
    "\n",
    "###############################################################################\n",
    "'''Normalize price columns'''\n",
    "#\n",
    "min_return = min(df[(df.index < last_20pct)][['Open', 'High', 'Low', 'Close']].min(axis=0))\n",
    "max_return = max(df[(df.index < last_20pct)][['Open', 'High', 'Low', 'Close']].max(axis=0))\n",
    "\n",
    "# Min-max normalize price columns (0-1 range)\n",
    "df['Open'] = (df['Open'] - min_return) / (max_return - min_return)\n",
    "df['High'] = (df['High'] - min_return) / (max_return - min_return)\n",
    "df['Low'] = (df['Low'] - min_return) / (max_return - min_return)\n",
    "df['Close'] = (df['Close'] - min_return) / (max_return - min_return)\n",
    "\n",
    "###############################################################################\n",
    "'''Normalize volume column'''\n",
    "\n",
    "min_volume = df[(df.index < last_20pct)]['Volume'].min(axis=0)\n",
    "max_volume = df[(df.index < last_20pct)]['Volume'].max(axis=0)\n",
    "\n",
    "# Min-max normalize volume columns (0-1 range)\n",
    "df['Volume'] = (df['Volume'] - min_volume) / (max_volume - min_volume)\n",
    "\n",
    "###############################################################################\n",
    "'''Create training, validation and test split'''\n",
    "\n",
    "df_train = df[(df.index < last_20pct)]  # Training data are 80% of total data\n",
    "df_val = df[(df.index >= last_20pct) & (df.index < last_10pct)]\n",
    "df_test = df[(df.index >= last_10pct)]\n",
    "\n",
    "# Remove date column\n",
    "df_train.drop(columns=['Date'], inplace=True)\n",
    "df_val.drop(columns=['Date'], inplace=True)\n",
    "df_test.drop(columns=['Date'], inplace=True)\n",
    "\n",
    "# Convert pandas columns into arrays\n",
    "train_data = df_train.values\n",
    "val_data = df_val.values\n",
    "test_data = df_test.values\n",
    "print('Training data shape: {}'.format(train_data.shape))\n",
    "print('Validation data shape: {}'.format(val_data.shape))\n",
    "print('Test data shape: {}'.format(test_data.shape))\n",
    "\n",
    "df_train.head()"
   ]
  },
  {
   "cell_type": "markdown",
   "metadata": {
    "id": "Moj1_tbiTfdc"
   },
   "source": [
    "## Moving Average - Plot daily changes of close price and volume"
   ]
  },
  {
   "cell_type": "code",
   "execution_count": null,
   "metadata": {
    "colab": {
     "base_uri": "https://localhost:8080/",
     "height": 792
    },
    "id": "UfHJUSEPSaWi",
    "outputId": "110e6214-8793-44a3-d3cd-fb004a75d28d"
   },
   "outputs": [],
   "source": [
    "fig = plt.figure(figsize=(15,12))\n",
    "st = fig.suptitle(\"Data Separation\", fontsize=20)\n",
    "st.set_y(0.95)\n",
    "\n",
    "###############################################################################\n",
    "\n",
    "ax1 = fig.add_subplot(211)\n",
    "ax1.plot(np.arange(train_data.shape[0]), df_train['Close'], label='Training data')\n",
    "\n",
    "ax1.plot(np.arange(train_data.shape[0], \n",
    "                   train_data.shape[0]+val_data.shape[0]), df_val['Close'], label='Validation data')\n",
    "\n",
    "ax1.plot(np.arange(train_data.shape[0]+val_data.shape[0], \n",
    "                   train_data.shape[0]+val_data.shape[0]+test_data.shape[0]), df_test['Close'], label='Test data')\n",
    "ax1.set_xlabel('Date')\n",
    "ax1.set_ylabel('Normalized Closing Returns')\n",
    "ax1.set_title(\"Close Price\", fontsize=18)\n",
    "ax1.legend(loc=\"best\", fontsize=12)\n",
    "\n",
    "###############################################################################\n",
    "\n",
    "ax2 = fig.add_subplot(212)\n",
    "ax2.plot(np.arange(train_data.shape[0]), df_train['Volume'], label='Training data')\n",
    "\n",
    "ax2.plot(np.arange(train_data.shape[0], \n",
    "                   train_data.shape[0]+val_data.shape[0]), df_val['Volume'], label='Validation data')\n",
    "\n",
    "ax2.plot(np.arange(train_data.shape[0]+val_data.shape[0], \n",
    "                   train_data.shape[0]+val_data.shape[0]+test_data.shape[0]), df_test['Volume'], label='Test data')\n",
    "ax2.set_xlabel('Date')\n",
    "ax2.set_ylabel('Normalized Volume Changes')\n",
    "ax2.set_title(\"Volume\", fontsize=18)\n",
    "ax2.legend(loc=\"best\", fontsize=12)"
   ]
  },
  {
   "cell_type": "markdown",
   "metadata": {
    "id": "nkh2TIurTjOO"
   },
   "source": [
    "## Moving Average - Create chunks of training, validation, and test data"
   ]
  },
  {
   "cell_type": "code",
   "execution_count": null,
   "metadata": {
    "colab": {
     "base_uri": "https://localhost:8080/",
     "height": 51
    },
    "id": "O4YOIvAuTj4S",
    "outputId": "13902840-6cb9-46ff-9256-fc68dcd61296"
   },
   "outputs": [],
   "source": [
    "# Training data\n",
    "X_train, y_train = [], []\n",
    "for i in range(seq_len, len(train_data)):\n",
    "  X_train.append(train_data[i-seq_len:i]) # Chunks of training data with a length of 128 df-rows\n",
    "  y_train.append(train_data[:, 3][i]) #Value of 4th column (Close Price) of df-row 128+1\n",
    "X_train, y_train = np.array(X_train), np.array(y_train)\n",
    "\n",
    "###############################################################################\n",
    "\n",
    "# Validation data\n",
    "X_val, y_val = [], []\n",
    "for i in range(seq_len, len(val_data)):\n",
    "    X_val.append(val_data[i-seq_len:i])\n",
    "    y_val.append(val_data[:, 3][i])\n",
    "X_val, y_val = np.array(X_val), np.array(y_val)\n",
    "\n",
    "###############################################################################\n",
    "\n",
    "# Test data\n",
    "X_test, y_test = [], []\n",
    "for i in range(seq_len, len(test_data)):\n",
    "    X_test.append(test_data[i-seq_len:i])\n",
    "    y_test.append(test_data[:, 3][i])    \n",
    "X_test, y_test = np.array(X_test), np.array(y_test)\n",
    "\n",
    "print(X_train.shape, y_train.shape)\n",
    "print(X_val.shape, y_val.shape)"
   ]
  },
  {
   "cell_type": "markdown",
   "metadata": {
    "id": "ns21gno_T2xy"
   },
   "source": [
    "## Moving Average - Model"
   ]
  },
  {
   "cell_type": "code",
   "execution_count": null,
   "metadata": {
    "colab": {
     "base_uri": "https://localhost:8080/",
     "height": 1000
    },
    "id": "_1oy3O71Tjyv",
    "outputId": "c431669a-ae34-42bc-b27c-3a40b20b0051"
   },
   "outputs": [],
   "source": [
    "def create_model():\n",
    "  '''Initialize time and transformer layers'''\n",
    "  time_embedding = Time2Vector(seq_len)\n",
    "  attn_layer1 = TransformerEncoder(d_k, d_v, n_heads, ff_dim)\n",
    "  attn_layer2 = TransformerEncoder(d_k, d_v, n_heads, ff_dim)\n",
    "  attn_layer3 = TransformerEncoder(d_k, d_v, n_heads, ff_dim)\n",
    "\n",
    "  '''Construct model'''\n",
    "  in_seq = Input(shape=(seq_len, 5))\n",
    "  x = time_embedding(in_seq)\n",
    "  x = Concatenate(axis=-1)([in_seq, x])\n",
    "  x = attn_layer1((x, x, x))\n",
    "  x = attn_layer2((x, x, x))\n",
    "  x = attn_layer3((x, x, x))\n",
    "  x = GlobalAveragePooling1D(data_format='channels_first')(x)\n",
    "  x = Dropout(0.1)(x)\n",
    "  x = Dense(64, activation='relu')(x)\n",
    "  x = Dropout(0.1)(x)\n",
    "  out = Dense(1, activation='linear')(x)\n",
    "\n",
    "  model = Model(inputs=in_seq, outputs=out)\n",
    "  model.compile(loss='mse', optimizer='adam', metrics=['mae', 'mape'])\n",
    "  return model\n",
    "\n",
    "\n",
    "model = create_model()\n",
    "model.summary()\n",
    "\n",
    "callback = tf.keras.callbacks.ModelCheckpoint(hdf5_file_name, \n",
    "                                              monitor='val_loss', \n",
    "                                              save_best_only=True, \n",
    "                                              verbose=1)\n",
    "\n",
    "history = model.fit(X_train, y_train, \n",
    "                    batch_size=batch_size, \n",
    "                    epochs=35, \n",
    "                    callbacks=[callback],\n",
    "                    validation_data=(X_val, y_val))  \n",
    "\n",
    "model = tf.keras.models.load_model(hdf5_file_path,\n",
    "                                   custom_objects={'Time2Vector': Time2Vector, \n",
    "                                                   'SingleAttention': SingleAttention,\n",
    "                                                   'MultiAttention': MultiAttention,\n",
    "                                                   'TransformerEncoder': TransformerEncoder})\n",
    "\n",
    "\n",
    "###############################################################################\n",
    "'''Calculate predictions and metrics'''\n",
    "\n",
    "#Calculate predication for training, validation and test data\n",
    "train_pred = model.predict(X_train)\n",
    "val_pred = model.predict(X_val)\n",
    "test_pred = model.predict(X_test)\n",
    "\n",
    "#Print evaluation metrics for all datasets\n",
    "train_eval = model.evaluate(X_train, y_train, verbose=0)\n",
    "val_eval = model.evaluate(X_val, y_val, verbose=0)\n",
    "test_eval = model.evaluate(X_test, y_test, verbose=0)\n",
    "print(' ')\n",
    "print('Evaluation metrics')\n",
    "print('Training Data - Loss: {:.4f}, MAE: {:.4f}, MAPE: {:.4f}'.format(train_eval[0], train_eval[1], train_eval[2]))\n",
    "print('Validation Data - Loss: {:.4f}, MAE: {:.4f}, MAPE: {:.4f}'.format(val_eval[0], val_eval[1], val_eval[2]))\n",
    "print('Test Data - Loss: {:.4f}, MAE: {:.4f}, MAPE: {:.4f}'.format(test_eval[0], test_eval[1], test_eval[2]))\n",
    "\n",
    "###############################################################################\n",
    "'''Display results'''\n",
    "\n",
    "fig = plt.figure(figsize=(15,20))\n",
    "st = fig.suptitle(\"Moving Average - Transformer + TimeEmbedding Model\", fontsize=22)\n",
    "st.set_y(0.92)\n",
    "\n",
    "#Plot training data results\n",
    "ax11 = fig.add_subplot(311)\n",
    "ax11.plot(train_data[:, 3], label='IBM Closing Returns')\n",
    "ax11.plot(np.arange(seq_len, train_pred.shape[0]+seq_len), train_pred, linewidth=3, label='Predicted IBM Closing Returns')\n",
    "ax11.set_title(\"Training Data\", fontsize=18)\n",
    "ax11.set_xlabel('Date')\n",
    "ax11.set_ylabel('IBM Closing Returns')\n",
    "ax11.legend(loc=\"best\", fontsize=12)\n",
    "\n",
    "#Plot validation data results\n",
    "ax21 = fig.add_subplot(312)\n",
    "ax21.plot(val_data[:, 3], label='IBM Closing Returns')\n",
    "ax21.plot(np.arange(seq_len, val_pred.shape[0]+seq_len), val_pred, linewidth=3, label='Predicted IBM Closing Returns')\n",
    "ax21.set_title(\"Validation Data\", fontsize=18)\n",
    "ax21.set_xlabel('Date')\n",
    "ax21.set_ylabel('IBM Closing Returns')\n",
    "ax21.legend(loc=\"best\", fontsize=12)\n",
    "\n",
    "#Plot test data results\n",
    "ax31 = fig.add_subplot(313)\n",
    "ax31.plot(test_data[:, 3], label='IBM Closing Returns')\n",
    "ax31.plot(np.arange(seq_len, test_pred.shape[0]+seq_len), test_pred, linewidth=3, label='Predicted IBM Closing Returns')\n",
    "ax31.set_title(\"Test Data\", fontsize=18)\n",
    "ax31.set_xlabel('Date')\n",
    "ax31.set_ylabel('IBM Closing Returns')\n",
    "ax31.legend(loc=\"best\", fontsize=12)"
   ]
  },
  {
   "cell_type": "markdown",
   "metadata": {
    "id": "rQxwsG_AT_gm"
   },
   "source": [
    "## Moving Average - Model metrics"
   ]
  },
  {
   "cell_type": "code",
   "execution_count": null,
   "metadata": {
    "colab": {
     "base_uri": "https://localhost:8080/",
     "height": 1000
    },
    "id": "UCNT45C_TjsT",
    "outputId": "593aec95-a2c2-4f0d-8845-70d5ee3a74a3"
   },
   "outputs": [],
   "source": [
    "'''Display model metrics'''\n",
    "\n",
    "fig = plt.figure(figsize=(15,20))\n",
    "st = fig.suptitle(\"Moving Average - Transformer + TimeEmbedding Model Metrics\", fontsize=22)\n",
    "st.set_y(0.92)\n",
    "\n",
    "#Plot model loss\n",
    "ax1 = fig.add_subplot(311)\n",
    "ax1.plot(history.history['loss'], label='Training loss (MSE)')\n",
    "ax1.plot(history.history['val_loss'], label='Validation loss (MSE)')\n",
    "ax1.set_title(\"Model loss\", fontsize=18)\n",
    "ax1.set_xlabel('Epoch')\n",
    "ax1.set_ylabel('Loss (MSE)')\n",
    "ax1.legend(loc=\"best\", fontsize=12)\n",
    "\n",
    "#Plot MAE\n",
    "ax2 = fig.add_subplot(312)\n",
    "ax2.plot(history.history['mae'], label='Training MAE')\n",
    "ax2.plot(history.history['val_mae'], label='Validation MAE')\n",
    "ax2.set_title(\"Model metric - Mean average error (MAE)\", fontsize=18)\n",
    "ax2.set_xlabel('Epoch')\n",
    "ax2.set_ylabel('Mean average error (MAE)')\n",
    "ax2.legend(loc=\"best\", fontsize=12)\n",
    "\n",
    "#Plot MAPE\n",
    "ax3 = fig.add_subplot(313)\n",
    "ax3.plot(history.history['mape'], label='Training MAPE')\n",
    "ax3.plot(history.history['val_mape'], label='Validation MAPE')\n",
    "ax3.set_title(\"Model metric - Mean average percentage error (MAPE)\", fontsize=18)\n",
    "ax3.set_xlabel('Epoch')\n",
    "ax3.set_ylabel('Mean average percentage error (MAPE)')\n",
    "ax3.legend(loc=\"best\", fontsize=12)"
   ]
  },
  {
   "cell_type": "code",
   "execution_count": null,
   "metadata": {
    "id": "pNvUgwyfTjl0"
   },
   "outputs": [],
   "source": []
  },
  {
   "cell_type": "code",
   "execution_count": null,
   "metadata": {},
   "outputs": [],
   "source": []
  },
  {
   "cell_type": "code",
   "execution_count": null,
   "metadata": {},
   "outputs": [],
   "source": []
  },
  {
   "cell_type": "code",
   "execution_count": null,
   "metadata": {},
   "outputs": [],
   "source": []
  }
 ],
 "metadata": {
  "colab": {
   "collapsed_sections": [],
   "name": "IBM_Transformer+TimeEmbedding_Github.ipynb",
   "provenance": []
  },
  "kernelspec": {
   "display_name": "Python 3 (ipykernel)",
   "language": "python",
   "name": "python3"
  },
  "language_info": {
   "codemirror_mode": {
    "name": "ipython",
    "version": 3
   },
   "file_extension": ".py",
   "mimetype": "text/x-python",
   "name": "python",
   "nbconvert_exporter": "python",
   "pygments_lexer": "ipython3",
   "version": "3.7.17"
  }
 },
 "nbformat": 4,
 "nbformat_minor": 4
}
